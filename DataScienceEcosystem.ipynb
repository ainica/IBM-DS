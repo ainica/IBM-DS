{
 "cells": [
  {
   "cell_type": "markdown",
   "id": "1b5b2f07-e096-4c8b-bb50-a94dbab2b4f5",
   "metadata": {},
   "source": [
    "# Data Science Tools and Ecosystem #"
   ]
  },
  {
   "cell_type": "markdown",
   "id": "60acce2d-5ce1-4120-a500-e5c39a11bbb4",
   "metadata": {},
   "source": [
    "In this notebook, Data Science Tools and Ecosystem are summarized."
   ]
  },
  {
   "cell_type": "markdown",
   "id": "f50c37f7-0154-4f28-a7d6-6175cfc8d3cb",
   "metadata": {},
   "source": [
    "Some of the popular languages that Data Scientists use are:\n",
    "1. Python\n",
    "2. R\n",
    "3. SQL\n",
    "4. Julia"
   ]
  },
  {
   "cell_type": "markdown",
   "id": "a0af9633-f66f-4700-8d5e-3dd4cc34288d",
   "metadata": {},
   "source": [
    "Some of the commonly used libraries used by Data Scientists include:\n",
    "1. Numpy\n",
    "2. Pandas\n",
    "3. Matplotlib\n",
    "4. SciPy\n",
    "5. PyTorch"
   ]
  },
  {
   "cell_type": "markdown",
   "id": "c41a1e5f-57dc-4e82-a306-63f6de8866e8",
   "metadata": {},
   "source": [
    "| Data Science Tools |\n",
    "|:-------------------|\n",
    "| Pandas             |\n",
    "| Hadoop             |\n",
    "| Apache Spa         |"
   ]
  },
  {
   "cell_type": "markdown",
   "id": "e4503f73-0b9d-4a61-9033-98bca0d0f03c",
   "metadata": {},
   "source": [
    "### Below are a few examples of evaluating arithmetic expressions in Python ###\n"
   ]
  },
  {
   "cell_type": "code",
   "execution_count": 1,
   "id": "ab2b2a5d-4a04-436d-8965-e5869063d015",
   "metadata": {},
   "outputs": [
    {
     "data": {
      "text/plain": [
       "17"
      ]
     },
     "execution_count": 1,
     "metadata": {},
     "output_type": "execute_result"
    }
   ],
   "source": [
    "(3*4)+5"
   ]
  },
  {
   "cell_type": "code",
   "execution_count": 2,
   "id": "e3ef32da-9e18-4590-811e-c67c2c507627",
   "metadata": {},
   "outputs": [
    {
     "data": {
      "text/plain": [
       "3.3333333333333335"
      ]
     },
     "execution_count": 2,
     "metadata": {},
     "output_type": "execute_result"
    }
   ],
   "source": [
    "# The function below converts minutes to hours\n",
    "def convert_min_to_hrs (n_min):\n",
    "    \n",
    "    # Divide number of minutes by 60 and return result\n",
    "    return n_min/60\n",
    "\n",
    "convert_min_to_hrs(200)"
   ]
  },
  {
   "cell_type": "markdown",
   "id": "e652ca04-b3c1-4c28-a2e9-2065903d5da9",
   "metadata": {},
   "source": [
    "**Objectives:**\n",
    "* create headings\n",
    "* write descriptive text\n",
    "* create tables\n",
    "* write code\n",
    "* comment code\n"
   ]
  },
  {
   "cell_type": "markdown",
   "id": "bc1e4f30-b3d7-4a26-825b-57618e855254",
   "metadata": {},
   "source": [
    "## Author ##\n",
    "John Donne"
   ]
  },
  {
   "cell_type": "code",
   "execution_count": null,
   "id": "c205112b-1d3d-465f-bbc6-ebb4761c2936",
   "metadata": {},
   "outputs": [],
   "source": []
  }
 ],
 "metadata": {
  "kernelspec": {
   "display_name": "Python 3",
   "language": "python",
   "name": "python3"
  },
  "language_info": {
   "codemirror_mode": {
    "name": "ipython",
    "version": 3
   },
   "file_extension": ".py",
   "mimetype": "text/x-python",
   "name": "python",
   "nbconvert_exporter": "python",
   "pygments_lexer": "ipython3",
   "version": "3.8.8"
  }
 },
 "nbformat": 4,
 "nbformat_minor": 5
}
